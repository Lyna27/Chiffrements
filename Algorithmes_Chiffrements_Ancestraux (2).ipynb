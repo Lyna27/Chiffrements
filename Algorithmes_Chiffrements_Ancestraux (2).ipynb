{
  "nbformat": 4,
  "nbformat_minor": 0,
  "metadata": {
    "colab": {
      "provenance": []
    },
    "kernelspec": {
      "name": "python3",
      "display_name": "Python 3"
    },
    "language_info": {
      "name": "python"
    }
  },
  "cells": [
    {
      "cell_type": "code",
      "source": [
        "def Chiffrement_Cesar(message, k):\n",
        "    message = message.upper()   # la fonction upper() transforme les lettres en majuscules pour faciliter leur recherche dans la table ASCII\n",
        "    encrypted_message = \"\"\n",
        "    for letter in message:\n",
        "      if letter == \" \":     # Si la lettre est un espace, ne rien faire et passer a la prochaine lettre\n",
        "          encrypted_message += \" \"\n",
        "      else:\n",
        "          code_letter = ord(letter) - 65 # la fonction ord permet d'associer le code ASCII de chaque caractere. \n",
        "          # on soustrait 65 afin d'obtenir des entiers entre 0 et 25 pour les lettres de A a Z\n",
        "          new_code = (code_letter + k) % 26\n",
        "          encrypted_letter = chr(new_code + 65) # la fonction chr convertit la positionh des chiffres en lettres \n",
        "          encrypted_message += encrypted_letter #ajouter la nouvelle lettre au message crypté\n",
        "    return encrypted_message\n",
        "\n",
        "print(Chiffrement_Cesar(\"Ceci est un test\",5)) # afficher le message grace à la fonction print\n",
        "print(Chiffrement_Cesar(\"Bonsoir\",5))"
      ],
      "metadata": {
        "colab": {
          "base_uri": "https://localhost:8080/"
        },
        "id": "xSd_KBH_ilPZ",
        "outputId": "b092d29c-5812-4c39-9625-2afb1b05dc60"
      },
      "execution_count": null,
      "outputs": [
        {
          "output_type": "stream",
          "name": "stdout",
          "text": [
            "HJHN JXY ZS YJXY\n",
            "GTSXTNW\n"
          ]
        }
      ]
    },
    {
      "cell_type": "code",
      "source": [
        "# Algorithme de Chiffrement par Substitution\n",
        "substitution = \"MNBVCXWLKJHGFDSQPOIUYTREZA\" \n",
        "message = input(\"Entrez le message à chiffrer : \") # la fonction input affiche une case pour introduire notre message\n",
        "message_chiffre = \"\"\n",
        "for lettre in message.upper():\n",
        "    if lettre.isalpha(): # la fonction isalpha() permet de verifier si les caracteres d'une chaine sont des alphabets\n",
        "        indice = ord(lettre) - 65   # recuperer le code ASCII de la lettre, exemple indice=0 code de la lettre A\n",
        "        lettre_chiffree = substitution[indice] # lettre = substitution[0]=M, A est remplacée par M\n",
        "    else:      # si le caractere est un espace\n",
        "        lettre_chiffree = lettre\n",
        "    message_chiffre += lettre_chiffree\n",
        "print(\"Le message chiffré est :\", message_chiffre)"
      ],
      "metadata": {
        "id": "R5o2VRmMIxYt",
        "colab": {
          "base_uri": "https://localhost:8080/"
        },
        "outputId": "8514ba9c-26bc-4fe1-8f40-1a5d53cd177a"
      },
      "execution_count": null,
      "outputs": [
        {
          "output_type": "stream",
          "name": "stdout",
          "text": [
            "Entrez le message à chiffrer : Ceci est un test\n",
            "Le message chiffré est : BCBK CIU YD UCIU\n"
          ]
        }
      ]
    },
    {
      "cell_type": "code",
      "source": [
        "# Chiffrement de Vigenere \n",
        "cle = \"CLE\" # La clé est sous forme de chaine de caracteres\n",
        "message = input(\"Veuillez introduire le message à chiffrer : \")\n",
        "for c in cle:  # c parcourt la chaine de caracteres \"CLE\"\n",
        "  cle_ord = [ord(c) - 65 ] # Convertir la clé en une séquence d'entiers \n",
        "  message_chiffre = \"\"\n",
        "  cle_index = 0\n",
        "  for lettre in message.upper():\n",
        "      if lettre.isalpha():\n",
        "          decalage = cle_ord[cle_index % len(cle_ord)] \n",
        "          # le décalage est calculé ainsi pour permettre à la clé de se répeter si celle ci est plus courte que le message à chiffrer\n",
        "          lettre_chiffree = chr((ord(lettre) - 65 + decalage) % 26 + 65)\n",
        "          # On trouve la lettre chiffrée en additionnant le code ASCII de la lettre en clair \n",
        "          #avec le décalage, modulo 26 pour revenir sur les 26 lettres de l'alphabet, puis on ajoute 65 pour revenir au code ASCII \n",
        "          cle_index += 1  \n",
        "      else:\n",
        "          lettre_chiffree = lettre   # Si la lettre n'est pas un alphabet, elle est ajoutée au message chiffré telle quelle.\n",
        "      message_chiffre += lettre_chiffree\n",
        "print(\"Le message chiffré est :\", message_chiffre)\n"
      ],
      "metadata": {
        "id": "Brcbse6Zr0qt",
        "colab": {
          "base_uri": "https://localhost:8080/"
        },
        "outputId": "ab0ba303-7d9b-4bd9-caa2-63f5c65a67fa"
      },
      "execution_count": 1,
      "outputs": [
        {
          "output_type": "stream",
          "name": "stdout",
          "text": [
            "Veuillez introduire le message à chiffrer : Ceci est un test\n",
            "Le message chiffré est : GIGM IWX YR XIWX\n"
          ]
        }
      ]
    }
  ]
}